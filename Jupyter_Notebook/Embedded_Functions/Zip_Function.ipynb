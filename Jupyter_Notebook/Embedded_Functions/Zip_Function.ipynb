{
 "cells": [
  {
   "cell_type": "code",
   "execution_count": 1,
   "id": "8bac0147",
   "metadata": {},
   "outputs": [],
   "source": [
    "a=[1,5,6,9]\n",
    "b=[6,8,7,6,3]"
   ]
  },
  {
   "cell_type": "code",
   "execution_count": 2,
   "id": "84e161ac",
   "metadata": {},
   "outputs": [],
   "source": [
    "i=0\n",
    "a_b =list()\n",
    "while i<len(a) and i<len(b):\n",
    "\n",
    "    a_b.append((a[i],b[i]))\n",
    "    i+=1"
   ]
  },
  {
   "cell_type": "code",
   "execution_count": 3,
   "id": "527acb4a",
   "metadata": {},
   "outputs": [
    {
     "name": "stdout",
     "output_type": "stream",
     "text": [
      "[(1, 6), (5, 8), (6, 7), (9, 6)]\n"
     ]
    }
   ],
   "source": [
    "print(a_b)"
   ]
  }
 ],
 "metadata": {
  "kernelspec": {
   "display_name": "Python 3 (ipykernel)",
   "language": "python",
   "name": "python3"
  },
  "language_info": {
   "codemirror_mode": {
    "name": "ipython",
    "version": 3
   },
   "file_extension": ".py",
   "mimetype": "text/x-python",
   "name": "python",
   "nbconvert_exporter": "python",
   "pygments_lexer": "ipython3",
   "version": "3.10.0"
  }
 },
 "nbformat": 4,
 "nbformat_minor": 5
}
