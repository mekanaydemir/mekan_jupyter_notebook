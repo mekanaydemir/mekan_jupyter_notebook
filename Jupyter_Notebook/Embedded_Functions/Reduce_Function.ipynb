{
 "cells": [
  {
   "cell_type": "code",
   "execution_count": 4,
   "id": "f3a9e8bd",
   "metadata": {},
   "outputs": [],
   "source": [
    "from functools import reduce"
   ]
  },
  {
   "cell_type": "code",
   "execution_count": 11,
   "id": "bc8ed1fc",
   "metadata": {},
   "outputs": [],
   "source": [
    "def maximum(x,y):\n",
    "    if x<=y:\n",
    "        return x\n",
    "    else:\n",
    "        return y"
   ]
  },
  {
   "cell_type": "code",
   "execution_count": 15,
   "id": "50ecd071",
   "metadata": {},
   "outputs": [],
   "source": [
    "maximum_array = [9,5,3,8,-18,15,20,-99,55,22,11,-81,35,45,-96,82,81]\n",
    "new_array = []"
   ]
  },
  {
   "cell_type": "code",
   "execution_count": 16,
   "id": "0cbc8292",
   "metadata": {
    "scrolled": true
   },
   "outputs": [],
   "source": [
    "while len(maximum_array)>0:\n",
    "    a = reduce(maximum,maximum_array)\n",
    "    new_array.append(a)\n",
    "    maximum_array.remove(a)\n",
    "    "
   ]
  },
  {
   "cell_type": "code",
   "execution_count": 17,
   "id": "31acf084",
   "metadata": {
    "scrolled": true
   },
   "outputs": [
    {
     "name": "stdout",
     "output_type": "stream",
     "text": [
      "[-99, -96, -81, -18, 3, 5, 8, 9, 11, 15, 20, 22, 35, 45, 55, 81, 82]\n"
     ]
    }
   ],
   "source": [
    "print(new_array)"
   ]
  }
 ],
 "metadata": {
  "kernelspec": {
   "display_name": "Python 3 (ipykernel)",
   "language": "python",
   "name": "python3"
  },
  "language_info": {
   "codemirror_mode": {
    "name": "ipython",
    "version": 3
   },
   "file_extension": ".py",
   "mimetype": "text/x-python",
   "name": "python",
   "nbconvert_exporter": "python",
   "pygments_lexer": "ipython3",
   "version": "3.10.0"
  }
 },
 "nbformat": 4,
 "nbformat_minor": 5
}
