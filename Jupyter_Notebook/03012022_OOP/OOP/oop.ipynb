{
 "cells": [
  {
   "cell_type": "code",
   "execution_count": 1,
   "id": "ee860e2a",
   "metadata": {},
   "outputs": [],
   "source": [
    "class Personel():\n",
    "    meslek = \"muhendis\"\n",
    "    yas = 25"
   ]
  },
  {
   "cell_type": "code",
   "execution_count": 2,
   "id": "c7b205bd",
   "metadata": {},
   "outputs": [],
   "source": [
    "mekan = Personel()"
   ]
  },
  {
   "cell_type": "code",
   "execution_count": 3,
   "id": "a275121e",
   "metadata": {},
   "outputs": [
    {
     "data": {
      "text/plain": [
       "'muhendis'"
      ]
     },
     "execution_count": 3,
     "metadata": {},
     "output_type": "execute_result"
    }
   ],
   "source": [
    "mekan.meslek"
   ]
  },
  {
   "cell_type": "code",
   "execution_count": 4,
   "id": "1de41cc3",
   "metadata": {},
   "outputs": [
    {
     "data": {
      "text/plain": [
       "25"
      ]
     },
     "execution_count": 4,
     "metadata": {},
     "output_type": "execute_result"
    }
   ],
   "source": [
    "mekan.yas"
   ]
  }
 ],
 "metadata": {
  "kernelspec": {
   "display_name": "Python 3 (ipykernel)",
   "language": "python",
   "name": "python3"
  },
  "language_info": {
   "codemirror_mode": {
    "name": "ipython",
    "version": 3
   },
   "file_extension": ".py",
   "mimetype": "text/x-python",
   "name": "python",
   "nbconvert_exporter": "python",
   "pygments_lexer": "ipython3",
   "version": "3.10.0"
  }
 },
 "nbformat": 4,
 "nbformat_minor": 5
}
