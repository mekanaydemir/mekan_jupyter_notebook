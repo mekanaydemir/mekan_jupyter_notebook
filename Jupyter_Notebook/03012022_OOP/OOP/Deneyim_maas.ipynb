{
 "cells": [
  {
   "cell_type": "code",
   "execution_count": 10,
   "id": "d37e1243",
   "metadata": {},
   "outputs": [],
   "source": [
    "class Personel():\n",
    "    def __init__(self,meslek,deneyim):\n",
    "        self.meslek = meslek\n",
    "        self.deneyim = deneyim\n",
    "        self.maas = 0\n",
    "    \n",
    "    def maas_hesapla(self):\n",
    "        if self.meslek == \"muhendis\":\n",
    "            self.maas = self.deneyim * 2\n",
    "            return self.maas\n",
    "        else:\n",
    "            self.maas = self.deneyim*3\n",
    "            return self.maas"
   ]
  },
  {
   "cell_type": "code",
   "execution_count": 11,
   "id": "e596510c",
   "metadata": {},
   "outputs": [],
   "source": [
    "m1 = Personel(\"muhendis\", 5)"
   ]
  },
  {
   "cell_type": "code",
   "execution_count": 12,
   "id": "f530275d",
   "metadata": {},
   "outputs": [
    {
     "data": {
      "text/plain": [
       "10"
      ]
     },
     "execution_count": 12,
     "metadata": {},
     "output_type": "execute_result"
    }
   ],
   "source": [
    "m1.maas_hesapla()"
   ]
  },
  {
   "cell_type": "code",
   "execution_count": 13,
   "id": "6c048ccc",
   "metadata": {},
   "outputs": [],
   "source": [
    "h1 = Personel(\"hemsire\",5)"
   ]
  },
  {
   "cell_type": "code",
   "execution_count": 14,
   "id": "f019d950",
   "metadata": {},
   "outputs": [
    {
     "data": {
      "text/plain": [
       "15"
      ]
     },
     "execution_count": 14,
     "metadata": {},
     "output_type": "execute_result"
    }
   ],
   "source": [
    "h1.maas_hesapla()"
   ]
  },
  {
   "cell_type": "code",
   "execution_count": 16,
   "id": "a5d24dcd",
   "metadata": {},
   "outputs": [
    {
     "data": {
      "text/plain": [
       "10"
      ]
     },
     "execution_count": 16,
     "metadata": {},
     "output_type": "execute_result"
    }
   ],
   "source": [
    "Personel(\"muhendis\",5).maas_hesapla()"
   ]
  }
 ],
 "metadata": {
  "kernelspec": {
   "display_name": "Python 3 (ipykernel)",
   "language": "python",
   "name": "python3"
  },
  "language_info": {
   "codemirror_mode": {
    "name": "ipython",
    "version": 3
   },
   "file_extension": ".py",
   "mimetype": "text/x-python",
   "name": "python",
   "nbconvert_exporter": "python",
   "pygments_lexer": "ipython3",
   "version": "3.10.0"
  }
 },
 "nbformat": 4,
 "nbformat_minor": 5
}
