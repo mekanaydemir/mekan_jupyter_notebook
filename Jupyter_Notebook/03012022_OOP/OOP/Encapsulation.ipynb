{
 "cells": [
  {
   "cell_type": "code",
   "execution_count": null,
   "id": "03bc756e",
   "metadata": {
    "slideshow": {
     "slide_type": "subslide"
    }
   },
   "outputs": [],
   "source": [
    "#encapsulation islemi disaridan degistirme yetkisi olmayan kisiler islem yapmasını engeller."
   ]
  },
  {
   "cell_type": "code",
   "execution_count": 22,
   "id": "ad51117d",
   "metadata": {},
   "outputs": [],
   "source": [
    "class Personel():\n",
    "    def __init__(self,meslek,deneyim,ucret):\n",
    "        self.meslek = meslek\n",
    "        self.deneyim = deneyim\n",
    "        self.__ucret = ucret\n",
    "        \n",
    "    def getUcret(self):\n",
    "        return self.__ucret\n",
    "    \n",
    "    def setUcret(self,yeni_ucret):\n",
    "        self.__ucret = yeni_ucret\n",
    "        return self.__ucret\n",
    "    "
   ]
  },
  {
   "cell_type": "code",
   "execution_count": 23,
   "id": "7bc7a735",
   "metadata": {},
   "outputs": [],
   "source": [
    "ayse = Personel(\"veri muhendisi\",5,10000)"
   ]
  },
  {
   "cell_type": "code",
   "execution_count": 24,
   "id": "07454ad8",
   "metadata": {},
   "outputs": [
    {
     "data": {
      "text/plain": [
       "10000"
      ]
     },
     "execution_count": 24,
     "metadata": {},
     "output_type": "execute_result"
    }
   ],
   "source": [
    "ayse.getUcret()"
   ]
  },
  {
   "cell_type": "code",
   "execution_count": 25,
   "id": "e6208719",
   "metadata": {},
   "outputs": [
    {
     "data": {
      "text/plain": [
       "15000"
      ]
     },
     "execution_count": 25,
     "metadata": {},
     "output_type": "execute_result"
    }
   ],
   "source": [
    "ayse.setUcret(15000)"
   ]
  }
 ],
 "metadata": {
  "kernelspec": {
   "display_name": "Python 3 (ipykernel)",
   "language": "python",
   "name": "python3"
  },
  "language_info": {
   "codemirror_mode": {
    "name": "ipython",
    "version": 3
   },
   "file_extension": ".py",
   "mimetype": "text/x-python",
   "name": "python",
   "nbconvert_exporter": "python",
   "pygments_lexer": "ipython3",
   "version": "3.10.0"
  }
 },
 "nbformat": 4,
 "nbformat_minor": 5
}
