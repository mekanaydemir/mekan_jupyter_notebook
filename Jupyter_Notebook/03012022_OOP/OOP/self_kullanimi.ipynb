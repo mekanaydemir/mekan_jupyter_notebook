{
 "cells": [
  {
   "cell_type": "code",
   "execution_count": 26,
   "id": "676867ee",
   "metadata": {},
   "outputs": [],
   "source": [
    "class Yas(): \n",
    "    yil = 2022\n",
    "    yas = 0\n",
    "    def yas_hesapla(self):\n",
    "        user_dogum = int(input(\"Dogum yiliniz: \"))\n",
    "        user_yas = self.yil-user_dogum\n",
    "        self.yas = user_yas\n",
    "        print(\"Yasiniz: {}\".format(user_yas))\n",
    "        return self.yas"
   ]
  },
  {
   "cell_type": "code",
   "execution_count": 27,
   "id": "3d1024a6",
   "metadata": {},
   "outputs": [],
   "source": [
    "a = Yas()"
   ]
  },
  {
   "cell_type": "code",
   "execution_count": 29,
   "id": "074f7f6d",
   "metadata": {
    "scrolled": true
   },
   "outputs": [
    {
     "name": "stdout",
     "output_type": "stream",
     "text": [
      "Dogum yiliniz: 1997\n",
      "Yasiniz: 25\n"
     ]
    },
    {
     "data": {
      "text/plain": [
       "25"
      ]
     },
     "execution_count": 29,
     "metadata": {},
     "output_type": "execute_result"
    }
   ],
   "source": [
    "a.yas_hesapla()"
   ]
  },
  {
   "cell_type": "code",
   "execution_count": 30,
   "id": "9e15e3d4",
   "metadata": {},
   "outputs": [
    {
     "data": {
      "text/plain": [
       "2022"
      ]
     },
     "execution_count": 30,
     "metadata": {},
     "output_type": "execute_result"
    }
   ],
   "source": [
    "a.yil"
   ]
  },
  {
   "cell_type": "code",
   "execution_count": 31,
   "id": "446a4eee",
   "metadata": {},
   "outputs": [
    {
     "data": {
      "text/plain": [
       "25"
      ]
     },
     "execution_count": 31,
     "metadata": {},
     "output_type": "execute_result"
    }
   ],
   "source": [
    "a.yas"
   ]
  }
 ],
 "metadata": {
  "kernelspec": {
   "display_name": "Python 3 (ipykernel)",
   "language": "python",
   "name": "python3"
  },
  "language_info": {
   "codemirror_mode": {
    "name": "ipython",
    "version": 3
   },
   "file_extension": ".py",
   "mimetype": "text/x-python",
   "name": "python",
   "nbconvert_exporter": "python",
   "pygments_lexer": "ipython3",
   "version": "3.10.0"
  }
 },
 "nbformat": 4,
 "nbformat_minor": 5
}
