{
 "cells": [
  {
   "cell_type": "code",
   "execution_count": 1,
   "id": "309cbf53",
   "metadata": {},
   "outputs": [],
   "source": [
    "class personel():\n",
    "    def __init__(self):\n",
    "        print(\"personel ise alindi\")\n",
    "    \n",
    "    def ek(self):\n",
    "        print(\"ek maas eklendi\")\n",
    "        \n",
    "    def zam(self):\n",
    "        print(\"zam tanimlandi\")\n",
    "    \n",
    "    def sigorta(self):\n",
    "        print(\"sigorta tanimlandi\")\n",
    "    \n"
   ]
  },
  {
   "cell_type": "code",
   "execution_count": 2,
   "id": "b9065c96",
   "metadata": {},
   "outputs": [
    {
     "name": "stdout",
     "output_type": "stream",
     "text": [
      "personel ise alindi\n"
     ]
    }
   ],
   "source": [
    "p1 = personel()"
   ]
  },
  {
   "cell_type": "code",
   "execution_count": 3,
   "id": "ff090852",
   "metadata": {},
   "outputs": [
    {
     "name": "stdout",
     "output_type": "stream",
     "text": [
      "zam tanimlandi\n"
     ]
    }
   ],
   "source": [
    "p1.zam()"
   ]
  },
  {
   "cell_type": "code",
   "execution_count": 10,
   "id": "ec3d650f",
   "metadata": {},
   "outputs": [],
   "source": [
    "class yonetici(personel):\n",
    "    def __init__(self):\n",
    "        super().__init__()\n",
    "        print(\"yonetici ise alindi\")\n",
    "        \n",
    "    def arac(self):\n",
    "        print(\"arac tahsil edildi\")\n",
    "        "
   ]
  },
  {
   "cell_type": "code",
   "execution_count": 11,
   "id": "b7266189",
   "metadata": {},
   "outputs": [
    {
     "name": "stdout",
     "output_type": "stream",
     "text": [
      "personel ise alindi\n",
      "yonetici ise alindi\n"
     ]
    }
   ],
   "source": [
    "y1 = yonetici()"
   ]
  },
  {
   "cell_type": "code",
   "execution_count": 12,
   "id": "7de52f65",
   "metadata": {},
   "outputs": [
    {
     "name": "stdout",
     "output_type": "stream",
     "text": [
      "arac tahsil edildi\n"
     ]
    }
   ],
   "source": [
    "y1.arac()"
   ]
  },
  {
   "cell_type": "code",
   "execution_count": 13,
   "id": "2aeef427",
   "metadata": {
    "scrolled": false
   },
   "outputs": [
    {
     "ename": "AttributeError",
     "evalue": "'personel' object has no attribute 'arac'",
     "output_type": "error",
     "traceback": [
      "\u001b[1;31m---------------------------------------------------------------------------\u001b[0m",
      "\u001b[1;31mAttributeError\u001b[0m                            Traceback (most recent call last)",
      "\u001b[1;32m~\\AppData\\Local\\Temp/ipykernel_1548/3465581024.py\u001b[0m in \u001b[0;36m<module>\u001b[1;34m\u001b[0m\n\u001b[1;32m----> 1\u001b[1;33m \u001b[0mp1\u001b[0m\u001b[1;33m.\u001b[0m\u001b[0marac\u001b[0m\u001b[1;33m(\u001b[0m\u001b[1;33m)\u001b[0m\u001b[1;33m\u001b[0m\u001b[1;33m\u001b[0m\u001b[0m\n\u001b[0m",
      "\u001b[1;31mAttributeError\u001b[0m: 'personel' object has no attribute 'arac'"
     ]
    }
   ],
   "source": [
    "p1.arac()"
   ]
  },
  {
   "cell_type": "code",
   "execution_count": 14,
   "id": "3dbe2614",
   "metadata": {},
   "outputs": [
    {
     "name": "stdout",
     "output_type": "stream",
     "text": [
      "zam tanimlandi\n"
     ]
    }
   ],
   "source": [
    "y1.zam()"
   ]
  }
 ],
 "metadata": {
  "kernelspec": {
   "display_name": "Python 3 (ipykernel)",
   "language": "python",
   "name": "python3"
  },
  "language_info": {
   "codemirror_mode": {
    "name": "ipython",
    "version": 3
   },
   "file_extension": ".py",
   "mimetype": "text/x-python",
   "name": "python",
   "nbconvert_exporter": "python",
   "pygments_lexer": "ipython3",
   "version": "3.10.0"
  }
 },
 "nbformat": 4,
 "nbformat_minor": 5
}
