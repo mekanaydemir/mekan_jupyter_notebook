{
 "cells": [
  {
   "cell_type": "code",
   "execution_count": 6,
   "id": "5379f398",
   "metadata": {},
   "outputs": [],
   "source": [
    "class Saat_to_dakika():\n",
    "    def __init__(self,saat):\n",
    "        self.saat = saat\n",
    "    \n",
    "    def donusturucu(self):\n",
    "        dakika = self.saat * 60\n",
    "        return dakika\n",
    "    "
   ]
  },
  {
   "cell_type": "code",
   "execution_count": 7,
   "id": "0d660e5b",
   "metadata": {},
   "outputs": [],
   "source": [
    "a = Saat_to_dakika(2)"
   ]
  },
  {
   "cell_type": "code",
   "execution_count": 8,
   "id": "4b59ae5b",
   "metadata": {},
   "outputs": [
    {
     "name": "stdout",
     "output_type": "stream",
     "text": [
      "120\n"
     ]
    }
   ],
   "source": [
    "print(a.donusturucu())"
   ]
  }
 ],
 "metadata": {
  "kernelspec": {
   "display_name": "Python 3 (ipykernel)",
   "language": "python",
   "name": "python3"
  },
  "language_info": {
   "codemirror_mode": {
    "name": "ipython",
    "version": 3
   },
   "file_extension": ".py",
   "mimetype": "text/x-python",
   "name": "python",
   "nbconvert_exporter": "python",
   "pygments_lexer": "ipython3",
   "version": "3.10.0"
  }
 },
 "nbformat": 4,
 "nbformat_minor": 5
}
