{
 "cells": [
  {
   "cell_type": "code",
   "execution_count": 5,
   "id": "71064746",
   "metadata": {},
   "outputs": [],
   "source": [
    "tuple1 = (\"kirmizi\",\"yesil\",\"mavi\")"
   ]
  },
  {
   "cell_type": "code",
   "execution_count": 6,
   "id": "9ac0323a",
   "metadata": {
    "scrolled": false
   },
   "outputs": [
    {
     "name": "stdout",
     "output_type": "stream",
     "text": [
      "kirmizi\n",
      "yesil\n",
      "mavi\n"
     ]
    }
   ],
   "source": [
    "for i in tuple1:\n",
    "    print(i)"
   ]
  },
  {
   "cell_type": "code",
   "execution_count": 8,
   "id": "8ce9feab",
   "metadata": {},
   "outputs": [
    {
     "ename": "TypeError",
     "evalue": "'tuple' object is not an iterator",
     "output_type": "error",
     "traceback": [
      "\u001b[1;31m---------------------------------------------------------------------------\u001b[0m",
      "\u001b[1;31mTypeError\u001b[0m                                 Traceback (most recent call last)",
      "\u001b[1;32m~\\AppData\\Local\\Temp/ipykernel_5244/3557070282.py\u001b[0m in \u001b[0;36m<module>\u001b[1;34m\u001b[0m\n\u001b[1;32m----> 1\u001b[1;33m \u001b[0mnext\u001b[0m\u001b[1;33m(\u001b[0m\u001b[0mtuple1\u001b[0m\u001b[1;33m)\u001b[0m\u001b[1;33m\u001b[0m\u001b[1;33m\u001b[0m\u001b[0m\n\u001b[0m",
      "\u001b[1;31mTypeError\u001b[0m: 'tuple' object is not an iterator"
     ]
    }
   ],
   "source": [
    "next(tuple1)"
   ]
  },
  {
   "cell_type": "code",
   "execution_count": 9,
   "id": "1046eaac",
   "metadata": {},
   "outputs": [],
   "source": [
    "iter_tuple1 = iter(tuple1)"
   ]
  },
  {
   "cell_type": "code",
   "execution_count": 13,
   "id": "86dd4f95",
   "metadata": {
    "scrolled": true
   },
   "outputs": [
    {
     "ename": "StopIteration",
     "evalue": "",
     "output_type": "error",
     "traceback": [
      "\u001b[1;31m---------------------------------------------------------------------------\u001b[0m",
      "\u001b[1;31mStopIteration\u001b[0m                             Traceback (most recent call last)",
      "\u001b[1;32m~\\AppData\\Local\\Temp/ipykernel_5244/3555811083.py\u001b[0m in \u001b[0;36m<module>\u001b[1;34m\u001b[0m\n\u001b[1;32m----> 1\u001b[1;33m \u001b[0mnext\u001b[0m\u001b[1;33m(\u001b[0m\u001b[0miter_tuple1\u001b[0m\u001b[1;33m)\u001b[0m\u001b[1;33m\u001b[0m\u001b[1;33m\u001b[0m\u001b[0m\n\u001b[0m",
      "\u001b[1;31mStopIteration\u001b[0m: "
     ]
    }
   ],
   "source": [
    "next(iter_tuple1)"
   ]
  },
  {
   "cell_type": "code",
   "execution_count": 14,
   "id": "4420ab89",
   "metadata": {},
   "outputs": [],
   "source": [
    "kirmizi = \"kirmizi\""
   ]
  },
  {
   "cell_type": "code",
   "execution_count": 15,
   "id": "dfc290d0",
   "metadata": {
    "scrolled": false
   },
   "outputs": [
    {
     "name": "stdout",
     "output_type": "stream",
     "text": [
      "k\n",
      "i\n",
      "r\n",
      "m\n",
      "i\n",
      "z\n",
      "i\n"
     ]
    }
   ],
   "source": [
    "for i in kirmizi:\n",
    "    print(i)"
   ]
  },
  {
   "cell_type": "code",
   "execution_count": 17,
   "id": "56e095fd",
   "metadata": {},
   "outputs": [],
   "source": [
    "iter_kirmizi = iter(kirmizi)"
   ]
  },
  {
   "cell_type": "code",
   "execution_count": 26,
   "id": "aafedcac",
   "metadata": {
    "scrolled": false
   },
   "outputs": [
    {
     "ename": "StopIteration",
     "evalue": "",
     "output_type": "error",
     "traceback": [
      "\u001b[1;31m---------------------------------------------------------------------------\u001b[0m",
      "\u001b[1;31mStopIteration\u001b[0m                             Traceback (most recent call last)",
      "\u001b[1;32m~\\AppData\\Local\\Temp/ipykernel_5244/3142007310.py\u001b[0m in \u001b[0;36m<module>\u001b[1;34m\u001b[0m\n\u001b[1;32m----> 1\u001b[1;33m \u001b[0mnext\u001b[0m\u001b[1;33m(\u001b[0m\u001b[0miter_kirmizi\u001b[0m\u001b[1;33m)\u001b[0m\u001b[1;33m\u001b[0m\u001b[1;33m\u001b[0m\u001b[0m\n\u001b[0m",
      "\u001b[1;31mStopIteration\u001b[0m: "
     ]
    }
   ],
   "source": [
    "next(iter_kirmizi)"
   ]
  },
  {
   "cell_type": "code",
   "execution_count": 27,
   "id": "f159ed81",
   "metadata": {},
   "outputs": [],
   "source": [
    "a = [5,6,8,9,10]"
   ]
  },
  {
   "cell_type": "code",
   "execution_count": 35,
   "id": "98e07c74",
   "metadata": {},
   "outputs": [],
   "source": [
    "class Sayi():\n",
    "    def __init__(self,sayi):\n",
    "        self.sayi =sayi\n",
    "    \n",
    "    \n",
    "    def iterate_et(self):\n",
    "        itr_sayi = iter(self.sayi)\n",
    "        itr_ = 0\n",
    "        while itr_ < len(self.sayi):\n",
    "            try:\n",
    "                print(next(itr_sayi))\n",
    "            except StopIteration:\n",
    "                pass\n",
    "            itr_ += 1\n"
   ]
  },
  {
   "cell_type": "code",
   "execution_count": 36,
   "id": "2d571374",
   "metadata": {},
   "outputs": [
    {
     "name": "stdout",
     "output_type": "stream",
     "text": [
      "5\n",
      "6\n",
      "8\n",
      "9\n",
      "10\n"
     ]
    }
   ],
   "source": [
    "Sayi(a).iterate_et()"
   ]
  }
 ],
 "metadata": {
  "kernelspec": {
   "display_name": "Python 3 (ipykernel)",
   "language": "python",
   "name": "python3"
  },
  "language_info": {
   "codemirror_mode": {
    "name": "ipython",
    "version": 3
   },
   "file_extension": ".py",
   "mimetype": "text/x-python",
   "name": "python",
   "nbconvert_exporter": "python",
   "pygments_lexer": "ipython3",
   "version": "3.10.0"
  }
 },
 "nbformat": 4,
 "nbformat_minor": 5
}
