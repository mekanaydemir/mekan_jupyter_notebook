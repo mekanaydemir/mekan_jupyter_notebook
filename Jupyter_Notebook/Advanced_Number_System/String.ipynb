{
 "cells": [
  {
   "cell_type": "code",
   "execution_count": 1,
   "id": "a5170ae6",
   "metadata": {},
   "outputs": [
    {
     "data": {
      "text/plain": [
       "'PYTHON'"
      ]
     },
     "execution_count": 1,
     "metadata": {},
     "output_type": "execute_result"
    }
   ],
   "source": [
    "\"python\".upper()"
   ]
  },
  {
   "cell_type": "code",
   "execution_count": 2,
   "id": "e8cb40a8",
   "metadata": {},
   "outputs": [],
   "source": [
    "mekan = \"mekan\""
   ]
  },
  {
   "cell_type": "code",
   "execution_count": 3,
   "id": "3e492e39",
   "metadata": {},
   "outputs": [
    {
     "data": {
      "text/plain": [
       "'MEKAN'"
      ]
     },
     "execution_count": 3,
     "metadata": {},
     "output_type": "execute_result"
    }
   ],
   "source": [
    "mekan.upper()"
   ]
  },
  {
   "cell_type": "code",
   "execution_count": 6,
   "id": "dab355bf",
   "metadata": {},
   "outputs": [
    {
     "data": {
      "text/plain": [
       "'mekan-aydemir-python'"
      ]
     },
     "execution_count": 6,
     "metadata": {},
     "output_type": "execute_result"
    }
   ],
   "source": [
    "\"mekan aydemir python\".replace(\" \",\"-\")"
   ]
  },
  {
   "cell_type": "code",
   "execution_count": 8,
   "id": "3994b12c",
   "metadata": {},
   "outputs": [],
   "source": [
    "programlama_diller = \"PHP PYTHON TIA C#\""
   ]
  },
  {
   "cell_type": "code",
   "execution_count": 10,
   "id": "64ff33b2",
   "metadata": {},
   "outputs": [],
   "source": [
    "list_diller = programlama_diller.split(\" \")"
   ]
  },
  {
   "cell_type": "code",
   "execution_count": 11,
   "id": "6ff3c021",
   "metadata": {},
   "outputs": [
    {
     "name": "stdout",
     "output_type": "stream",
     "text": [
      "PHP\n",
      "PYTHON\n",
      "TIA\n",
      "C#\n"
     ]
    }
   ],
   "source": [
    "for i in list_diller:\n",
    "    print(i)"
   ]
  },
  {
   "cell_type": "code",
   "execution_count": 12,
   "id": "a0faf459",
   "metadata": {},
   "outputs": [
    {
     "name": "stdout",
     "output_type": "stream",
     "text": [
      "['PHP', 'PYTHON', 'TIA', 'C#']\n"
     ]
    }
   ],
   "source": [
    "print(list_diller)"
   ]
  },
  {
   "cell_type": "code",
   "execution_count": 13,
   "id": "ed6b2cc6",
   "metadata": {},
   "outputs": [],
   "source": [
    "programlama_diller = \"PHP-PYTHON-TIA-C#\""
   ]
  },
  {
   "cell_type": "code",
   "execution_count": 14,
   "id": "a8dbbe00",
   "metadata": {},
   "outputs": [],
   "source": [
    "list_diller = programlama_diller.split(\"-\")"
   ]
  },
  {
   "cell_type": "code",
   "execution_count": 15,
   "id": "d243a02d",
   "metadata": {},
   "outputs": [
    {
     "name": "stdout",
     "output_type": "stream",
     "text": [
      "['PHP', 'PYTHON', 'TIA', 'C#']\n"
     ]
    }
   ],
   "source": [
    "print(list_diller)"
   ]
  }
 ],
 "metadata": {
  "kernelspec": {
   "display_name": "Python 3 (ipykernel)",
   "language": "python",
   "name": "python3"
  },
  "language_info": {
   "codemirror_mode": {
    "name": "ipython",
    "version": 3
   },
   "file_extension": ".py",
   "mimetype": "text/x-python",
   "name": "python",
   "nbconvert_exporter": "python",
   "pygments_lexer": "ipython3",
   "version": "3.10.0"
  }
 },
 "nbformat": 4,
 "nbformat_minor": 5
}
