{
 "cells": [
  {
   "cell_type": "code",
   "execution_count": 10,
   "id": "a2e23111",
   "metadata": {},
   "outputs": [],
   "source": [
    "class Kuvvet3():\n",
    "    def __init__(self,max=0):\n",
    "        self.max = max\n",
    "        self.kuvvet = 0\n",
    "        \n",
    "    def __iter__(self):\n",
    "        return self\n",
    "    \n",
    "    def __next__(self):\n",
    "        if self.kuvvet <= self.max :\n",
    "            sonuc = 3 ** self.kuvvet\n",
    "            self.kuvvet +=1\n",
    "            return sonuc\n",
    "        else:\n",
    "            self.kuvvet = 0\n",
    "            raise StopIteration"
   ]
  },
  {
   "cell_type": "code",
   "execution_count": 11,
   "id": "04741c7b",
   "metadata": {},
   "outputs": [],
   "source": [
    "kuvvet = Kuvvet3(6)"
   ]
  },
  {
   "cell_type": "code",
   "execution_count": 3,
   "id": "583e3cb2",
   "metadata": {},
   "outputs": [],
   "source": [
    "iterator = iter(kuvvet)"
   ]
  },
  {
   "cell_type": "code",
   "execution_count": 4,
   "id": "2572a497",
   "metadata": {},
   "outputs": [
    {
     "name": "stdout",
     "output_type": "stream",
     "text": [
      "1\n"
     ]
    }
   ],
   "source": [
    "print(next(iterator))"
   ]
  },
  {
   "cell_type": "code",
   "execution_count": 5,
   "id": "1d9fc63f",
   "metadata": {},
   "outputs": [
    {
     "name": "stdout",
     "output_type": "stream",
     "text": [
      "3\n"
     ]
    }
   ],
   "source": [
    "print(next(iterator))"
   ]
  },
  {
   "cell_type": "code",
   "execution_count": 6,
   "id": "eb7d30eb",
   "metadata": {},
   "outputs": [
    {
     "name": "stdout",
     "output_type": "stream",
     "text": [
      "9\n"
     ]
    }
   ],
   "source": [
    "print(next(iterator))"
   ]
  },
  {
   "cell_type": "code",
   "execution_count": 12,
   "id": "e3f950fd",
   "metadata": {},
   "outputs": [
    {
     "name": "stdout",
     "output_type": "stream",
     "text": [
      "1\n",
      "3\n",
      "9\n",
      "27\n",
      "81\n",
      "243\n",
      "729\n"
     ]
    }
   ],
   "source": [
    "for i in kuvvet:\n",
    "    print(i)"
   ]
  },
  {
   "cell_type": "code",
   "execution_count": 13,
   "id": "0af69fa9",
   "metadata": {},
   "outputs": [],
   "source": [
    "#generator ornek"
   ]
  },
  {
   "cell_type": "code",
   "execution_count": 14,
   "id": "c725d221",
   "metadata": {},
   "outputs": [],
   "source": [
    "def fibonacci():\n",
    "    a=1\n",
    "    b=1\n",
    "    yield a\n",
    "    yield b\n",
    "    while True:\n",
    "        a,b = b, a+b\n",
    "        yield b"
   ]
  },
  {
   "cell_type": "code",
   "execution_count": 17,
   "id": "fa654926",
   "metadata": {
    "scrolled": true
   },
   "outputs": [
    {
     "name": "stdout",
     "output_type": "stream",
     "text": [
      "1\n",
      "1\n",
      "2\n",
      "3\n",
      "5\n",
      "8\n",
      "13\n",
      "21\n",
      "34\n",
      "55\n",
      "89\n",
      "144\n",
      "233\n",
      "377\n",
      "610\n",
      "987\n"
     ]
    }
   ],
   "source": [
    "for sayi in fibonacci():\n",
    "    \n",
    "    if (sayi > 1000):\n",
    "        break\n",
    "    print(sayi)"
   ]
  }
 ],
 "metadata": {
  "kernelspec": {
   "display_name": "Python 3 (ipykernel)",
   "language": "python",
   "name": "python3"
  },
  "language_info": {
   "codemirror_mode": {
    "name": "ipython",
    "version": 3
   },
   "file_extension": ".py",
   "mimetype": "text/x-python",
   "name": "python",
   "nbconvert_exporter": "python",
   "pygments_lexer": "ipython3",
   "version": "3.10.0"
  }
 },
 "nbformat": 4,
 "nbformat_minor": 5
}
