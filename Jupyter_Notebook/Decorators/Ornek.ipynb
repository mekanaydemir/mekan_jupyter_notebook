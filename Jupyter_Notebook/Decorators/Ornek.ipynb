{
 "cells": [
  {
   "cell_type": "code",
   "execution_count": 29,
   "id": "fb85df91",
   "metadata": {},
   "outputs": [],
   "source": [
    "def extra(func):\n",
    "    def wrapper(sayilar):\n",
    "        ciftler_toplami=0\n",
    "        cift_sayi_adeti=0\n",
    "        for i in sayilar:\n",
    "            if i%2==0:\n",
    "                ciftler_toplami+=i\n",
    "                print(i)\n",
    "                cift_sayi_adeti+=1\n",
    "        ciftler_ortalama = ciftler_toplami/cift_sayi_adeti\n",
    "        print(\"ciftler ortalamasi: \",ciftler_ortalama)\n",
    "        func(sayilar)\n",
    "        return ciftler_ortalama\n",
    "    return wrapper\n",
    "        "
   ]
  },
  {
   "cell_type": "code",
   "execution_count": 30,
   "id": "8d178e24",
   "metadata": {},
   "outputs": [],
   "source": [
    "@extra\n",
    "def ortalama_bul(sayilar):\n",
    "    toplam=0\n",
    "    for i in sayilar:\n",
    "        toplam+=i\n",
    "    print(\"ortalama bul fonksiyonu active\")\n",
    "    print(\"Ortalama: \",toplam/len(sayilar))"
   ]
  },
  {
   "cell_type": "code",
   "execution_count": 31,
   "id": "edecdf88",
   "metadata": {
    "scrolled": true
   },
   "outputs": [
    {
     "name": "stdout",
     "output_type": "stream",
     "text": [
      "8\n",
      "6\n",
      "4\n",
      "2\n",
      "ciftler ortalamasi:  5.0\n",
      "ortalama bul fonksiyonu active\n",
      "Ortalama:  4.428571428571429\n"
     ]
    },
    {
     "data": {
      "text/plain": [
       "5.0"
      ]
     },
     "execution_count": 31,
     "metadata": {},
     "output_type": "execute_result"
    }
   ],
   "source": [
    "ortalama_bul([8,6,3,5,4,2,3])"
   ]
  }
 ],
 "metadata": {
  "kernelspec": {
   "display_name": "Python 3 (ipykernel)",
   "language": "python",
   "name": "python3"
  },
  "language_info": {
   "codemirror_mode": {
    "name": "ipython",
    "version": 3
   },
   "file_extension": ".py",
   "mimetype": "text/x-python",
   "name": "python",
   "nbconvert_exporter": "python",
   "pygments_lexer": "ipython3",
   "version": "3.10.0"
  }
 },
 "nbformat": 4,
 "nbformat_minor": 5
}
