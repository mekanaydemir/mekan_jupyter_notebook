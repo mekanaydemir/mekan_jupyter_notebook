{
 "cells": [
  {
   "cell_type": "code",
   "execution_count": 9,
   "id": "e2c2c20b",
   "metadata": {},
   "outputs": [],
   "source": [
    "def anafonksiyon(islem_adi):\n",
    "    def toplama(*args):\n",
    "        toplam =0\n",
    "        for i in args:\n",
    "            toplam+=i\n",
    "        return toplam\n",
    "    def carpma(*args):\n",
    "        carpim=1\n",
    "        for i in args:\n",
    "            carpim*=i\n",
    "        return carpim\n",
    "    if islem_adi == \"toplama\":\n",
    "        return toplama\n",
    "    else:\n",
    "        return carpma"
   ]
  },
  {
   "cell_type": "code",
   "execution_count": 5,
   "id": "89083452",
   "metadata": {},
   "outputs": [],
   "source": [
    "fonk = anafonksiyon(\"toplama\")"
   ]
  },
  {
   "cell_type": "code",
   "execution_count": 6,
   "id": "1def8dc6",
   "metadata": {
    "scrolled": true
   },
   "outputs": [
    {
     "name": "stdout",
     "output_type": "stream",
     "text": [
      "20\n"
     ]
    }
   ],
   "source": [
    "print(fonk(5,5,4,6))"
   ]
  },
  {
   "cell_type": "code",
   "execution_count": 10,
   "id": "f5efbd56",
   "metadata": {},
   "outputs": [],
   "source": [
    "fonk_c = anafonksiyon(\"carpma\")"
   ]
  },
  {
   "cell_type": "code",
   "execution_count": 11,
   "id": "e80aa862",
   "metadata": {
    "scrolled": true
   },
   "outputs": [
    {
     "data": {
      "text/plain": [
       "60"
      ]
     },
     "execution_count": 11,
     "metadata": {},
     "output_type": "execute_result"
    }
   ],
   "source": [
    "fonk_c(5,2,6)"
   ]
  },
  {
   "cell_type": "code",
   "execution_count": 12,
   "id": "3774e89b",
   "metadata": {},
   "outputs": [],
   "source": [
    "def toplama(a,b):\n",
    "    return a+b\n",
    "def cikarma(a,b):\n",
    "    return a-b\n",
    "def carpma(a,b):\n",
    "    return a*b\n",
    "def bolme(a,b):\n",
    "    return a/b"
   ]
  },
  {
   "cell_type": "code",
   "execution_count": 13,
   "id": "7dc7e52e",
   "metadata": {},
   "outputs": [],
   "source": [
    "def anafonksiyon(func1, func2, func3, func4,islem_adi):\n",
    "    if islem_adi ==\"toplama\":\n",
    "        print(func1(3,4))\n",
    "    elif islem_adi==\"cikarma\":\n",
    "        print(func2(10,4))\n",
    "    elif islem_adi==\"carpma\":\n",
    "        print(func3(6,3))\n",
    "    elif islem_adi==\"bolme\":\n",
    "        print(func4(10,2))\n",
    "    else:\n",
    "        print(\"choose ...\")"
   ]
  },
  {
   "cell_type": "code",
   "execution_count": 18,
   "id": "c61beef1",
   "metadata": {},
   "outputs": [
    {
     "name": "stdout",
     "output_type": "stream",
     "text": [
      "choose ...\n"
     ]
    }
   ],
   "source": [
    "anafonksiyon(toplama,cikarma,carpma,bolme,\"sdjf\")"
   ]
  }
 ],
 "metadata": {
  "kernelspec": {
   "display_name": "Python 3 (ipykernel)",
   "language": "python",
   "name": "python3"
  },
  "language_info": {
   "codemirror_mode": {
    "name": "ipython",
    "version": 3
   },
   "file_extension": ".py",
   "mimetype": "text/x-python",
   "name": "python",
   "nbconvert_exporter": "python",
   "pygments_lexer": "ipython3",
   "version": "3.10.0"
  }
 },
 "nbformat": 4,
 "nbformat_minor": 5
}
