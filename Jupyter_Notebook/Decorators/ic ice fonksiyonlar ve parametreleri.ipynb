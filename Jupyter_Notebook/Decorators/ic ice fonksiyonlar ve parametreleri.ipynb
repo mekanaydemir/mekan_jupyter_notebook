{
 "cells": [
  {
   "cell_type": "code",
   "execution_count": 19,
   "id": "1226e8e5",
   "metadata": {},
   "outputs": [],
   "source": [
    "def fonksiyon(*args): #args stands for you can add limitless variable\n",
    "    for i in args:\n",
    "        for j in i:\n",
    "            print(j,end=\"\")\n",
    "        print()"
   ]
  },
  {
   "cell_type": "code",
   "execution_count": 12,
   "id": "bfa358f0",
   "metadata": {},
   "outputs": [],
   "source": [
    "liste = (5,9,8,6,2,4,6)\n",
    "liste2 = (5,8,7,4,6)\n",
    "liste3  = (3,6,4,1)"
   ]
  },
  {
   "cell_type": "code",
   "execution_count": 20,
   "id": "e72e464a",
   "metadata": {
    "scrolled": true
   },
   "outputs": [
    {
     "name": "stdout",
     "output_type": "stream",
     "text": [
      "5986246\n",
      "58746\n",
      "3641\n"
     ]
    }
   ],
   "source": [
    "fonksiyon(liste,liste2,liste3)"
   ]
  },
  {
   "cell_type": "code",
   "execution_count": 21,
   "id": "3a372a60",
   "metadata": {},
   "outputs": [],
   "source": [
    "def selamla(isim):\n",
    "    print(\"selam\",isim)"
   ]
  },
  {
   "cell_type": "code",
   "execution_count": 22,
   "id": "8ebc24e4",
   "metadata": {},
   "outputs": [
    {
     "name": "stdout",
     "output_type": "stream",
     "text": [
      "selam ayse\n"
     ]
    }
   ],
   "source": [
    "selamla(\"ayse\")"
   ]
  },
  {
   "cell_type": "code",
   "execution_count": 23,
   "id": "1cbedea4",
   "metadata": {},
   "outputs": [
    {
     "data": {
      "text/plain": [
       "<function __main__.selamla(isim)>"
      ]
     },
     "execution_count": 23,
     "metadata": {},
     "output_type": "execute_result"
    }
   ],
   "source": [
    "selamla"
   ]
  },
  {
   "cell_type": "code",
   "execution_count": 25,
   "id": "007fd587",
   "metadata": {},
   "outputs": [],
   "source": [
    "merhaba = selamla"
   ]
  },
  {
   "cell_type": "code",
   "execution_count": 26,
   "id": "e8fa962b",
   "metadata": {},
   "outputs": [
    {
     "data": {
      "text/plain": [
       "<function __main__.selamla(isim)>"
      ]
     },
     "execution_count": 26,
     "metadata": {},
     "output_type": "execute_result"
    }
   ],
   "source": [
    "merhaba"
   ]
  },
  {
   "cell_type": "code",
   "execution_count": 27,
   "id": "d0bd66b3",
   "metadata": {},
   "outputs": [
    {
     "name": "stdout",
     "output_type": "stream",
     "text": [
      "selam kemal\n"
     ]
    }
   ],
   "source": [
    "merhaba(\"kemal\")"
   ]
  },
  {
   "cell_type": "code",
   "execution_count": 28,
   "id": "df07c97b",
   "metadata": {},
   "outputs": [],
   "source": [
    "del selamla"
   ]
  },
  {
   "cell_type": "code",
   "execution_count": 29,
   "id": "1be8a6ce",
   "metadata": {},
   "outputs": [
    {
     "ename": "NameError",
     "evalue": "name 'selamla' is not defined",
     "output_type": "error",
     "traceback": [
      "\u001b[1;31m---------------------------------------------------------------------------\u001b[0m",
      "\u001b[1;31mNameError\u001b[0m                                 Traceback (most recent call last)",
      "\u001b[1;32m~\\AppData\\Local\\Temp/ipykernel_9048/2991125916.py\u001b[0m in \u001b[0;36m<module>\u001b[1;34m\u001b[0m\n\u001b[1;32m----> 1\u001b[1;33m \u001b[0mselamla\u001b[0m\u001b[1;33m(\u001b[0m\u001b[1;34m\"mekan\"\u001b[0m\u001b[1;33m)\u001b[0m\u001b[1;33m\u001b[0m\u001b[1;33m\u001b[0m\u001b[0m\n\u001b[0m",
      "\u001b[1;31mNameError\u001b[0m: name 'selamla' is not defined"
     ]
    }
   ],
   "source": [
    "selamla(\"mekan\")"
   ]
  },
  {
   "cell_type": "code",
   "execution_count": 30,
   "id": "bf3f4562",
   "metadata": {},
   "outputs": [
    {
     "name": "stdout",
     "output_type": "stream",
     "text": [
      "selam mekan\n"
     ]
    }
   ],
   "source": [
    "merhaba(\"mekan\")"
   ]
  },
  {
   "cell_type": "code",
   "execution_count": 31,
   "id": "d9aad5f3",
   "metadata": {},
   "outputs": [],
   "source": [
    "def fonksiyon():\n",
    "    \n",
    "    def fonksiyon2():\n",
    "        print(\"kucuk fonksiyondan herkese merhaba\")\n",
    "    fonksiyon2()\n",
    "    print(\"buyuk fonksiyondan herkese merhaba\")"
   ]
  },
  {
   "cell_type": "code",
   "execution_count": 32,
   "id": "a5027d0a",
   "metadata": {},
   "outputs": [
    {
     "name": "stdout",
     "output_type": "stream",
     "text": [
      "kucuk fonksiyondan herkese merhaba\n",
      "buyuk fonksiyondan herkese merhaba\n"
     ]
    }
   ],
   "source": [
    "fonksiyon()"
   ]
  },
  {
   "cell_type": "code",
   "execution_count": 33,
   "id": "02631c91",
   "metadata": {},
   "outputs": [
    {
     "ename": "NameError",
     "evalue": "name 'fonksiyon2' is not defined",
     "output_type": "error",
     "traceback": [
      "\u001b[1;31m---------------------------------------------------------------------------\u001b[0m",
      "\u001b[1;31mNameError\u001b[0m                                 Traceback (most recent call last)",
      "\u001b[1;32m~\\AppData\\Local\\Temp/ipykernel_9048/1149327145.py\u001b[0m in \u001b[0;36m<module>\u001b[1;34m\u001b[0m\n\u001b[1;32m----> 1\u001b[1;33m \u001b[0mfonksiyon2\u001b[0m\u001b[1;33m(\u001b[0m\u001b[1;33m)\u001b[0m\u001b[1;33m\u001b[0m\u001b[1;33m\u001b[0m\u001b[0m\n\u001b[0m",
      "\u001b[1;31mNameError\u001b[0m: name 'fonksiyon2' is not defined"
     ]
    }
   ],
   "source": [
    "fonksiyon2()"
   ]
  },
  {
   "cell_type": "code",
   "execution_count": 35,
   "id": "c4a18dc0",
   "metadata": {},
   "outputs": [],
   "source": [
    "def fonksiyon(*args):\n",
    "    \n",
    "    def toplama(args):\n",
    "        toplam = 0\n",
    "        for i in args:\n",
    "            toplam += i\n",
    "        return toplam\n",
    "    print(toplama(args))"
   ]
  },
  {
   "cell_type": "code",
   "execution_count": 36,
   "id": "bc1d5581",
   "metadata": {},
   "outputs": [
    {
     "name": "stdout",
     "output_type": "stream",
     "text": [
      "60\n"
     ]
    }
   ],
   "source": [
    "fonksiyon(5,9,6,4,2,8,3,5,6,8,4)"
   ]
  }
 ],
 "metadata": {
  "kernelspec": {
   "display_name": "Python 3 (ipykernel)",
   "language": "python",
   "name": "python3"
  },
  "language_info": {
   "codemirror_mode": {
    "name": "ipython",
    "version": 3
   },
   "file_extension": ".py",
   "mimetype": "text/x-python",
   "name": "python",
   "nbconvert_exporter": "python",
   "pygments_lexer": "ipython3",
   "version": "3.10.0"
  }
 },
 "nbformat": 4,
 "nbformat_minor": 5
}
